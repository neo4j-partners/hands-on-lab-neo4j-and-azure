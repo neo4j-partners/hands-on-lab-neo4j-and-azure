{
  "cells": [
    {
      "cell_type": "markdown",
      "id": "04d4df95",
      "metadata": {},
      "source": [
        "# Entity Extraction with LLM\n",
        "This notebook guides you through the process of extracting data from Form 13F XML files, using Azure OpenAI to identify key entities, and then loading that information into a Neo4j graph database. This hands-on lab demonstrates how to combine these technologies to transform unstructured data into a structured, queryable graph.\n"
      ]
    },
    {
      "cell_type": "markdown",
      "id": "4dc548a5",
      "metadata": {},
      "source": [
        "##  Install Dependencies\n",
        "\n",
        "First, let's install the necessary Python packages.  Run this cell to install the 'openai', 'neo4j', and 'azure-storage-blob' libraries.\n",
        "These libraries allow us to work with OpenAI, Neo4j, and Azure Blob Storage, respectively.\n",
        "In a Jupyter Notebook, you can install packages using pip with a cell like this:\n"
      ]
    },
    {
      "cell_type": "code",
      "execution_count": null,
      "id": "ff2ca6e0",
      "metadata": {},
      "outputs": [],
      "source": [
        "# Used in Labs 5, 6 and 7\n",
        "%pip install --user openai\n",
        "%pip install --user neo4j\n",
        "%pip install --user graphdatascience\n",
        "%pip install --user azure-storage-blob"
      ]
    },
    {
      "cell_type": "markdown",
      "id": "184feb34",
      "metadata": {},
      "source": [
        "Now let’s restart the kernel. Run the cell below and click OK when the popup appears."
      ]
    },
    {
      "cell_type": "code",
      "execution_count": null,
      "id": "e19d962f",
      "metadata": {},
      "outputs": [],
      "source": [
        "import IPython\n",
        "app = IPython.Application.instance()\n",
        "app.kernel.do_shutdown(restart=True)"
      ]
    },
    {
      "cell_type": "markdown",
      "id": "badbf47e",
      "metadata": {},
      "source": [
        "## Import Libraries\n",
        "\n",
        "Next, we'll import the Python libraries that we'll use in this notebook.\n",
        "These libraries provide functions for working with XML data, connecting to Neo4j, handling JSON, accessing Azure Blob Storage, and interacting with the OpenAI API."
      ]
    },
    {
      "cell_type": "code",
      "execution_count": null,
      "id": "13e529e0",
      "metadata": {},
      "outputs": [],
      "source": [
        "import os\n",
        "from xml.etree import ElementTree as ET\n",
        "from neo4j import GraphDatabase\n",
        "import json\n",
        "from azure.storage.blob import BlobServiceClient\n",
        "import openai\n",
        "from openai import AzureOpenAI"
      ]
    },
    {
      "cell_type": "markdown",
      "id": "f853c045",
      "metadata": {},
      "source": [
        "## Credentials Setup\n",
        "\n",
        "In the code cell below, you will find a text block assigned to the `env_content` variable. **Carefully replace the `your_...` placeholders within the single quotes with your actual Neo4j and Azure OpenAI credentials.**\n",
        "\n",
        "**Important Reminders:**\n",
        "\n",
        "* **Keep the single quotes** around your actual values.\n",
        "* **Do not add any extra spaces** around the `=` sign.\n",
        "\n",
        "Once you have replaced all the placeholders, run the code cell. It will create a `.env` file in the root directory of the notebook. You should see a message confirming that the `.env` file has been created.\n",
        "\n",
        "This `.env` file will be used to securely load your credentials in the subsequent lab notebooks (Lab 5, 6, and 7), so ensure you have entered the correct information.\n"
      ]
    },
    {
      "cell_type": "code",
      "execution_count": null,
      "id": "4bb65865",
      "metadata": {},
      "outputs": [],
      "source": [
        "#Update the values in this cell \n",
        "\n",
        "import os\n",
        "\n",
        "def create_dot_env_from_code_cell():\n",
        "    env_content = \"\"\"\n",
        "# ==============================================================================\n",
        "#  Neo4j Connection Details\n",
        "# ==============================================================================\n",
        "# Replace the placeholders below with your actual Neo4j connection details.\n",
        "# This information was provided when you created your Neo4j instance.\n",
        "\n",
        "NEO4J_USERNAME='neo4j'\n",
        "NEO4J_URI='neo4j+s://your_neo4j_server_url'\n",
        "NEO4J_PASSWORD='your_neo4j_password'\n",
        "\n",
        "# ==============================================================================\n",
        "#  Azure OpenAI Configuration\n",
        "# ==============================================================================\n",
        "# Replace the placeholders below with your Azure OpenAI credentials.\n",
        "# These were provided during the sign-up process for this workshop.\n",
        "\n",
        "API_ENDPOINT='your_api_endpoint'\n",
        "API_VERSION='your_api_version'\n",
        "API_KEY='your_api_key'\n",
        "deployment_name='your_deploymenr_name'\n",
        "\n",
        "# ==============================================================================\n",
        "# Important Notes:\n",
        "# ==============================================================================\n",
        "# 1.  Carefully replace the 'your_...' placeholders with your actual values,\n",
        "#     ensuring they are enclosed in single quotes (').\n",
        "# 2.  Do not include any extra spaces around the '=' sign.\n",
        "# ==============================================================================\n",
        "\"\"\"\n",
        "\n",
        "    print(\"Please confirm the values below. To modify, update the cell above and run the cell again\")\n",
        "    print(\"------------------------------------------------------------------------------------------\")\n",
        "    print(env_content)\n",
        "    print(\"------------------------------------------------------------------------------------------\")\n",
        "\n",
        "    try:\n",
        "        with open(\"../.env\", \"w\") as f:\n",
        "            f.write(env_content)\n",
        "        print(\"\\nSuccessfully created the .env file in the p directory.\")\n",
        "        print(\"Please ensure you have added '.env' to your .gitignore file.\")\n",
        "\n",
        "    except Exception as e:\n",
        "        print(f\"\\nAn error occurred while creating the .env file: {e}\")\n",
        "        print(\"Please check if the notebook has write permissions to the parent directory.\")\n",
        "\n",
        "# Run the function to start the process\n",
        "create_dot_env_from_code_cell()"
      ]
    },
    {
      "cell_type": "markdown",
      "id": "e2c64ede",
      "metadata": {},
      "source": [
        "The following code cell will read the credentials you saved in the `.env` file in the previous step and store them as variables within this notebook's environment."
      ]
    },
    {
      "cell_type": "code",
      "execution_count": null,
      "id": "70619bdb",
      "metadata": {},
      "outputs": [],
      "source": [
        "import os\n",
        "from dotenv import load_dotenv\n",
        "\n",
        "# Load environment variables from .env file\n",
        "loaded = load_dotenv()\n",
        "\n",
        "NEO4J_USERNAME = os.getenv(\"NEO4J_USERNAME\")\n",
        "NEO4J_URI = os.getenv(\"NEO4J_URI\")\n",
        "NEO4J_PASSWORD = os.getenv(\"NEO4J_PASSWORD\")\n",
        "API_ENDPOINT = os.getenv(\"API_ENDPOINT\")\n",
        "API_VERSION = os.getenv(\"API_VERSION\")\n",
        "API_KEY = os.getenv(\"API_KEY\")\n",
        "deployment_name = os.getenv(\"deployment_name\")\n",
        "\n",
        "if loaded:\n",
        "    print(\"✅ Credentails loaded successfully from .env file.\")\n",
        "else:\n",
        "    print(\"❌ Error: Could not load the .env file. Please ensure it exists in the correct location.\")"
      ]
    },
    {
      "cell_type": "markdown",
      "id": "8a046c44",
      "metadata": {},
      "source": [
        "## Azure Blob Storage Setup\n",
        "\n",
        "Now, we'll set up the connection to Azure Blob Storage.  You'll need to provide your Azure Blob Storage account URL.\n",
        "We'll use this to access the Form 13F data files."
      ]
    },
    {
      "cell_type": "code",
      "execution_count": null,
      "id": "e7037274",
      "metadata": {},
      "outputs": [],
      "source": [
        "account_url = \"https://neo4jdataset.blob.core.windows.net/\"  \n",
        "container_name = \"form13-raw\"\n",
        "blob_service_client = BlobServiceClient(account_url=account_url)"
      ]
    },
    {
      "cell_type": "markdown",
      "id": "b8fb6637",
      "metadata": {},
      "source": [
        "## Helper Functions\n",
        "\n",
        "We'll define a few helper functions to make the code more organized and reusable.\n",
        "These functions will handle reading XML data from Azure Blob Storage, extracting entities using OpenAI, and creating nodes in Neo4j."
      ]
    },
    {
      "cell_type": "code",
      "execution_count": null,
      "id": "d1d703b8",
      "metadata": {},
      "outputs": [],
      "source": [
        "def read_xml_from_azure(filename):\n",
        "    try:\n",
        "        blob_client = blob_service_client.get_blob_client(container=container_name, blob=filename)\n",
        "        content = blob_client.download_blob(max_concurrency=1, encoding='UTF-8').readall()\n",
        "        xml_start = content.find('<edgarSubmission')\n",
        "        return content[xml_start:] if xml_start != -1 else None\n",
        "    except Exception as e:\n",
        "        print(f\"Error reading file {filename}: {e}\")\n",
        "        return None\n",
        "\n",
        "def read_xml_from_azure(filename):\n",
        "    try:\n",
        "        blob_client = blob_service_client.get_blob_client(container=container_name, blob=filename)\n",
        "        content = blob_client.download_blob(max_concurrency=1, encoding='UTF-8').readall()\n",
        "        \n",
        "        # Find the actual XML content\n",
        "        xml_start = content.find('<?xml version=\"1.0\"')\n",
        "        xml_end = content.find('</XML>')\n",
        "        \n",
        "        if xml_start != -1 and xml_end != -1:\n",
        "            xml_content = content[xml_start:xml_end + 6]  # Include the closing </XML> tag\n",
        "            return xml_content\n",
        "        else:\n",
        "            print(f\"Could not find XML content in {filename}\")\n",
        "            return None\n",
        "            \n",
        "    except Exception as e:\n",
        "        print(f\"Error reading file {filename}: {e}\")\n",
        "        return None\n",
        "\n",
        "def extract_entities(xml_content):\n",
        "    if not xml_content:\n",
        "        return None\n",
        "        \n",
        "    prompt = \"\"\"\n",
        "    Extract the following information from the XML content and return it as a JSON object:\n",
        "    * \"managerName\": The text content of the <name> tag under <filingManager>\n",
        "    * \"street1\": The text content of the <com:street1> tag under <address>\n",
        "    * \"street2\": The text content of the <com:street2> tag under <address> (if present)\n",
        "    * \"city\": The text content of the <com:city> tag under <address>\n",
        "    * \"stateOrCounty\": The text content of the <com:stateOrCountry> tag under <address>\n",
        "    * \"zipCode\": The text content of the <com:zipCode> tag under <address>\n",
        "\n",
        "    Return the JSON object without any markdown formatting or code block indicators.\n",
        "    \n",
        "    XML Content:\n",
        "    {xml_text}\n",
        "    \"\"\".format(xml_text=xml_content)\n",
        "\n",
        "    try:\n",
        "        response = client.chat.completions.create(\n",
        "            model=deployment_name,\n",
        "            messages=[{\"role\": \"user\", \"content\": prompt}],\n",
        "            max_tokens=300\n",
        "        )\n",
        "        \n",
        "        result = response.choices[0].message.content\n",
        "        print(\"OpenAI Response:\", result)  # Debug print\n",
        "        \n",
        "        # Clean up the response\n",
        "        # Remove markdown code block indicators and any leading/trailing whitespace\n",
        "        cleaned_result = result.replace('```json', '').replace('```', '').strip()\n",
        "        \n",
        "        return json.loads(cleaned_result)\n",
        "        \n",
        "    except Exception as e:\n",
        "        print(f\"Error extracting entities: {e}\")\n",
        "        print(f\"Response content: {response.choices[0].message.content if 'response' in locals() else 'No response'}\")\n",
        "        return None\n",
        "\n",
        "\n",
        "def create_nodes(tx, data):\n",
        "    if not data:\n",
        "        return\n",
        "    \n",
        "    # Create Manager node\n",
        "    if data.get(\"managerName\"):\n",
        "        tx.run(\"MERGE (m:Manager {name: $name})\", \n",
        "               name=data[\"managerName\"])\n",
        "\n",
        "    # Filter out None values from address properties\n",
        "    address_props = {k: v for k, v in data.items() \n",
        "                    if k in [\"street1\", \"street2\", \"city\", \"stateOrCounty\", \"zipCode\"] \n",
        "                    and v is not None}  # Only include non-None values\n",
        "    \n",
        "    if address_props.get(\"street1\"):  # Only create address if at least street1 exists\n",
        "        # Dynamically build the Cypher query based on available properties\n",
        "        props_string = \", \".join(f\"{k}: ${k}\" for k in address_props.keys())\n",
        "        address_query = f\"\"\"\n",
        "            MERGE (a:Address {{{props_string}}})\n",
        "        \"\"\"\n",
        "        tx.run(address_query, **address_props)\n",
        "\n",
        "        # Create relationship between Manager and Address\n",
        "        if data.get(\"managerName\"):\n",
        "            tx.run(\"\"\"\n",
        "                MATCH (m:Manager {name: $name})\n",
        "                MATCH (a:Address {street1: $street1})\n",
        "                MERGE (m)-[:HAS_ADDRESS]->(a)\n",
        "            \"\"\", name=data[\"managerName\"], street1=address_props[\"street1\"])\n",
        "\n",
        "\n",
        "def process_files(file_names):\n",
        "    for file_name in file_names:\n",
        "        print(f\"Processing {file_name}\")\n",
        "        xml_content = read_xml_from_azure(file_name)\n",
        "        \n",
        "        if xml_content:\n",
        "            entities = extract_entities(xml_content)\n",
        "            if entities:\n",
        "                with driver.session() as session:\n",
        "                    session.execute_write(create_nodes, entities)\n",
        "                print(f\"Processed entities for {file_name}\")"
      ]
    },
    {
      "cell_type": "markdown",
      "id": "e914d9b0",
      "metadata": {},
      "source": [
        "## Main Execution\n",
        "This is the main part of the script.  It defines the files to be processed and calls the helper functions to extract data and load it into Neo4j"
      ]
    },
    {
      "cell_type": "code",
      "execution_count": null,
      "id": "e1060eea",
      "metadata": {},
      "outputs": [],
      "source": [
        "if __name__ == \"__main__\":\n",
        "    sample_files = [\n",
        "        'raw_2023-07-18_archives_edgar_data_1108893_0001108893-23-000005.txt',\n",
        "        'raw_2023-07-18_archives_edgar_data_1488921_0001085146-23-002736.txt',\n",
        "        'raw_2023-07-18_archives_edgar_data_1163165_0001104659-23-081874.txt',\n",
        "        'raw_2023-07-18_archives_edgar_data_1567459_0000950123-23-006124.txt'\n",
        "    ]\n",
        "    process_files(sample_files)"
      ]
    },
    {
      "cell_type": "markdown",
      "id": "70e6063e",
      "metadata": {},
      "source": [
        "## Verify\n",
        "This cell executes a Cypher query to retrieve the extracted data from Neo4j and display it in a tabular format.\n",
        "MATCH (m:Manager)-[r:HAS_ADDRESS]->(a:Address) RETURN m.name, r, a.street1, a.street2, a.city, a.stateOrCounty, a.zipCode"
      ]
    },
    {
      "cell_type": "code",
      "execution_count": null,
      "id": "1f764029",
      "metadata": {},
      "outputs": [],
      "source": [
        "with driver.session() as session:\n",
        "    results = session.run(\"\"\"\n",
        "        MATCH (m:Manager)-[r:HAS_ADDRESS]->(a:Address)\n",
        "        RETURN m.name, r, a.street1, a.street2, a.city, a.stateOrCounty, a.zipCode\n",
        "    \"\"\")\n",
        "\n",
        "    # Print the results in a user-friendly format\n",
        "    print(\"Managers and their Addresses:\\n\")\n",
        "    for record in results:\n",
        "        print(f\"Manager: {record['m.name']}\")\n",
        "        print(f\"  Address: {record['a.street1']}, {record['a.street2'] or ''}, {record['a.city']}, {record['a.stateOrCounty']}, {record['a.zipCode']}\\n\")\n",
        "    driver.close()"
      ]
    },
    {
      "cell_type": "markdown",
      "id": "11d08c3a",
      "metadata": {},
      "source": [
        "You can verify the extracted entities by running the following Cypher query in the Neo4j Query Editor:\n",
        "\n",
        "```cypher\n",
        "MATCH (m:Manager)-[r:HAS_ADDRESS]->(a:Address) \n",
        "RETURN m, r, a;\n",
        "```"
      ]
    },
    {
      "cell_type": "markdown",
      "id": "7ee11c80",
      "metadata": {},
      "source": [
        "**Note** Congratulations! You have successfully used an LLM to extract entities from an unstructured file and created a small knowledge graph in Neo4j."
      ]
    }
  ],
  "metadata": {
    "kernelspec": {
      "display_name": "Python 3",
      "language": "python",
      "name": "python3"
    },
    "language_info": {
      "codemirror_mode": {
        "name": "ipython",
        "version": 3
      },
      "file_extension": ".py",
      "mimetype": "text/x-python",
      "name": "python",
      "nbformat": 4,
      "nbformat_minor": 5,
      "pygments_lexer": "ipython3",
      "version": "3.8.10"
    },
    "orig_nbformat": 4,
    "vscode": {
      "interpreter": {
        "hash": "0c91899b889b547f818b159ffc9b4e797e889895297c117e0b99788f179c941e"
      }
    }
  },
  "nbformat": 4,
  "nbformat_minor": 5
}
